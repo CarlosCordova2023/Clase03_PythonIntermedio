{
  "nbformat": 4,
  "nbformat_minor": 0,
  "metadata": {
    "colab": {
      "provenance": [],
      "authorship_tag": "ABX9TyPkVhMRUbrPR6NI4kfkdZ0a",
      "include_colab_link": true
    },
    "kernelspec": {
      "name": "python3",
      "display_name": "Python 3"
    },
    "language_info": {
      "name": "python"
    }
  },
  "cells": [
    {
      "cell_type": "markdown",
      "metadata": {
        "id": "view-in-github",
        "colab_type": "text"
      },
      "source": [
        "<a href=\"https://colab.research.google.com/github/CarlosCordova2023/Clase03_PythonIntermedio/blob/main/Clase03PythonIntermedio.ipynb\" target=\"_parent\"><img src=\"https://colab.research.google.com/assets/colab-badge.svg\" alt=\"Open In Colab\"/></a>"
      ]
    },
    {
      "cell_type": "code",
      "execution_count": null,
      "metadata": {
        "colab": {
          "base_uri": "https://localhost:8080/"
        },
        "id": "-i-XthffyxP5",
        "outputId": "cc641a7a-9e24-4083-fe82-7b1f1abdb715"
      },
      "outputs": [
        {
          "output_type": "stream",
          "name": "stdout",
          "text": [
            "1\n"
          ]
        }
      ],
      "source": [
        "mi_lista = [1, 2, 3, 4, 5]\n",
        "print(mi_lista[0])  # Accede al primer elemento\n",
        "mi_lista.append(6)  # Agrega un elemento al final\n",
        "mi_lista[2] = 10    # Modifica el tercer elemento\n"
      ]
    },
    {
      "cell_type": "code",
      "source": [
        "lista = [1, 2, 3]\n",
        "lista.append(4)\n",
        "print(lista)  # Output: [1, 2, 3, 4]\n"
      ],
      "metadata": {
        "colab": {
          "base_uri": "https://localhost:8080/"
        },
        "id": "4PSODu5d1NGg",
        "outputId": "2bcc9e3e-9717-438b-b790-fc3b4e12d55a"
      },
      "execution_count": null,
      "outputs": [
        {
          "output_type": "stream",
          "name": "stdout",
          "text": [
            "[1, 2, 3, 4]\n"
          ]
        }
      ]
    },
    {
      "cell_type": "code",
      "source": [
        "lista = [1, 2, 3]\n",
        "lista.extend([4, 5])\n",
        "print(lista)  # Output: [1, 2, 3, 4, 5]\n"
      ],
      "metadata": {
        "colab": {
          "base_uri": "https://localhost:8080/"
        },
        "id": "UOUN2vxL1Ypf",
        "outputId": "dac7f60f-871b-4527-a561-7c9d7a7b3589"
      },
      "execution_count": null,
      "outputs": [
        {
          "output_type": "stream",
          "name": "stdout",
          "text": [
            "[1, 2, 3, 4, 5]\n"
          ]
        }
      ]
    },
    {
      "cell_type": "code",
      "source": [
        "lista = [1, 2, 3]\n",
        "lista.insert(1, 'a')\n",
        "print(lista)  # Output: [1, 'a', 2, 3]\n"
      ],
      "metadata": {
        "colab": {
          "base_uri": "https://localhost:8080/"
        },
        "id": "d1z-UbvF1jS_",
        "outputId": "0bdee079-8e68-471b-b838-1e4a7e377848"
      },
      "execution_count": null,
      "outputs": [
        {
          "output_type": "stream",
          "name": "stdout",
          "text": [
            "[1, 'a', 2, 3]\n"
          ]
        }
      ]
    },
    {
      "cell_type": "code",
      "source": [
        "lista = [1, 2, 3, 2]\n",
        "lista.remove(2)\n",
        "print(lista)  # Output: [1, 3, 2]\n"
      ],
      "metadata": {
        "colab": {
          "base_uri": "https://localhost:8080/"
        },
        "id": "AyqPdpXY1uQ-",
        "outputId": "e2642f25-381d-4203-dda9-fa87ff087183"
      },
      "execution_count": null,
      "outputs": [
        {
          "output_type": "stream",
          "name": "stdout",
          "text": [
            "[1, 3, 2]\n"
          ]
        }
      ]
    },
    {
      "cell_type": "code",
      "source": [
        "lista = [1, 2, 3]\n",
        "lista.pop()\n",
        "print(lista)  # Output: [1, 2]\n",
        "lista.pop(0)\n",
        "print(lista)  # Output: [2]\n"
      ],
      "metadata": {
        "colab": {
          "base_uri": "https://localhost:8080/"
        },
        "id": "yCtVPChK2CSl",
        "outputId": "e4dd530f-45de-477c-a904-bb420c1686d6"
      },
      "execution_count": null,
      "outputs": [
        {
          "output_type": "stream",
          "name": "stdout",
          "text": [
            "[1, 2]\n",
            "[2]\n"
          ]
        }
      ]
    },
    {
      "cell_type": "code",
      "source": [
        "lista = [3, 1, 2]\n",
        "lista.sort()\n",
        "print(lista)  # Output: [1, 2, 3]\n",
        "\n"
      ],
      "metadata": {
        "colab": {
          "base_uri": "https://localhost:8080/"
        },
        "id": "CKXYB5Qh2SK0",
        "outputId": "626dcb53-f5d5-40ec-d9d4-d011f5e560ac"
      },
      "execution_count": null,
      "outputs": [
        {
          "output_type": "stream",
          "name": "stdout",
          "text": [
            "[1, 2, 3]\n"
          ]
        }
      ]
    },
    {
      "cell_type": "code",
      "source": [
        "mi_tupla = (1, 2, 3, 4)\n",
        "print(mi_tupla[1])  # Accede al segundo elemento\n"
      ],
      "metadata": {
        "colab": {
          "base_uri": "https://localhost:8080/"
        },
        "id": "FdMX34gG2qLU",
        "outputId": "a273bd5c-8904-422d-95f3-696efe19f5a5"
      },
      "execution_count": null,
      "outputs": [
        {
          "output_type": "stream",
          "name": "stdout",
          "text": [
            "2\n"
          ]
        }
      ]
    },
    {
      "cell_type": "code",
      "source": [
        "mi_diccionario = {\"nombre\": \"Carlos\", \"edad\": 30, \"ciudad\": \"Quito\"}\n",
        "print(mi_diccionario[\"nombre\"])  # Accede al valor de la clave \"nombre\"\n",
        "mi_diccionario[\"edad\"] = 31      # Modifica el valor de la clave \"edad\"\n"
      ],
      "metadata": {
        "colab": {
          "base_uri": "https://localhost:8080/"
        },
        "id": "fWLZL1Rl3NRa",
        "outputId": "869ecb7c-f0ef-4ed1-95c1-5ae4ce75a14a"
      },
      "execution_count": null,
      "outputs": [
        {
          "output_type": "stream",
          "name": "stdout",
          "text": [
            "Carlos\n"
          ]
        }
      ]
    },
    {
      "cell_type": "code",
      "source": [
        "mi_diccionario = {'a': 1, 'b': 2, 'c': 3}\n",
        "claves = mi_diccionario.keys()\n",
        "print(claves)  # Output: dict_keys(['a', 'b', 'c'])\n"
      ],
      "metadata": {
        "colab": {
          "base_uri": "https://localhost:8080/"
        },
        "id": "hfoZhNfz4htJ",
        "outputId": "75622003-dbc0-410f-dec2-d7ac2e4e6d20"
      },
      "execution_count": null,
      "outputs": [
        {
          "output_type": "stream",
          "name": "stdout",
          "text": [
            "dict_keys(['a', 'b', 'c'])\n"
          ]
        }
      ]
    },
    {
      "cell_type": "code",
      "source": [
        "mi_diccionario = {'a': 1, 'b': 2, 'c': 3}\n",
        "valores = mi_diccionario.values()\n",
        "print(valores)  # Output: dict_values([1, 2, 3])\n"
      ],
      "metadata": {
        "colab": {
          "base_uri": "https://localhost:8080/"
        },
        "id": "09ZECZK742on",
        "outputId": "e25bd176-8f05-426e-e33f-1d0b0c6a6275"
      },
      "execution_count": null,
      "outputs": [
        {
          "output_type": "stream",
          "name": "stdout",
          "text": [
            "dict_values([1, 2, 3])\n"
          ]
        }
      ]
    },
    {
      "cell_type": "code",
      "source": [
        "mi_diccionario = {'a': 1, 'b': 2, 'c': 3}\n",
        "pares = mi_diccionario.items()\n",
        "print(pares)  # Output: dict_items([('a', 1), ('b', 2), ('c', 3)])\n"
      ],
      "metadata": {
        "colab": {
          "base_uri": "https://localhost:8080/"
        },
        "id": "F1GZSwPs5CYf",
        "outputId": "a311a048-b951-4494-8ae5-478ef80212bb"
      },
      "execution_count": null,
      "outputs": [
        {
          "output_type": "stream",
          "name": "stdout",
          "text": [
            "dict_items([('a', 1), ('b', 2), ('c', 3)])\n"
          ]
        }
      ]
    },
    {
      "cell_type": "code",
      "source": [
        "mi_diccionario = {'a': 1, 'b': 2, 'c': 3}\n",
        "valor = mi_diccionario.get('b')\n",
        "print(valor)  # Output: 2\n"
      ],
      "metadata": {
        "colab": {
          "base_uri": "https://localhost:8080/"
        },
        "id": "B6U3VMAe5Qhm",
        "outputId": "c8b064bc-1f87-427a-99bf-f18844ab1791"
      },
      "execution_count": null,
      "outputs": [
        {
          "output_type": "stream",
          "name": "stdout",
          "text": [
            "2\n"
          ]
        }
      ]
    },
    {
      "cell_type": "code",
      "source": [
        "mi_diccionario = {'a': 1, 'b': 2}\n",
        "otro_diccionario = {'c': 3, 'd': 4}\n",
        "mi_diccionario.update(otro_diccionario)\n",
        "print(mi_diccionario)  # Output: {'a': 1, 'b': 2, 'c': 3, 'd': 4}\n"
      ],
      "metadata": {
        "colab": {
          "base_uri": "https://localhost:8080/"
        },
        "id": "sW6eRMOJ5ZRm",
        "outputId": "bdc15797-8cde-49f3-bee4-30ade4d713b4"
      },
      "execution_count": null,
      "outputs": [
        {
          "output_type": "stream",
          "name": "stdout",
          "text": [
            "{'a': 1, 'b': 2, 'c': 3, 'd': 4}\n"
          ]
        }
      ]
    },
    {
      "cell_type": "code",
      "source": [
        "mi_conjunto = {1, 2, 3, 4, 5}\n",
        "mi_conjunto.add(6)      # Añade un elemento\n",
        "mi_conjunto.remove(3)   # Elimina un elemento\n",
        "print(mi_conjunto)"
      ],
      "metadata": {
        "colab": {
          "base_uri": "https://localhost:8080/"
        },
        "id": "PKWi6xmz5qE_",
        "outputId": "7290a114-26ad-4915-e72f-ba47e7657bbe"
      },
      "execution_count": null,
      "outputs": [
        {
          "output_type": "stream",
          "name": "stdout",
          "text": [
            "{1, 2, 4, 5, 6}\n"
          ]
        }
      ]
    },
    {
      "cell_type": "code",
      "source": [
        "conjunto1 = {1, 2, 3}\n",
        "conjunto2 = {3, 4, 5}\n",
        "union = conjunto1.union(conjunto2)\n",
        "print(union)  # Output: {1, 2, 3, 4, 5}\n"
      ],
      "metadata": {
        "colab": {
          "base_uri": "https://localhost:8080/"
        },
        "id": "2joBj3Yz8OHr",
        "outputId": "8b50e18f-e9c4-4d14-ec64-7dbb87b3db57"
      },
      "execution_count": null,
      "outputs": [
        {
          "output_type": "stream",
          "name": "stdout",
          "text": [
            "{1, 2, 3, 4, 5}\n"
          ]
        }
      ]
    },
    {
      "cell_type": "code",
      "source": [
        "conjunto1 = {1, 2, 3}\n",
        "conjunto2 = {3, 4, 5}\n",
        "interseccion = conjunto1.intersection(conjunto2)\n",
        "print(interseccion)  # Output: {3}\n"
      ],
      "metadata": {
        "colab": {
          "base_uri": "https://localhost:8080/"
        },
        "id": "a2_67KfP8YHA",
        "outputId": "d0f664ff-79cb-4ebf-8933-31d2b9c3d557"
      },
      "execution_count": null,
      "outputs": [
        {
          "output_type": "stream",
          "name": "stdout",
          "text": [
            "{3}\n"
          ]
        }
      ]
    },
    {
      "cell_type": "code",
      "source": [
        "conjunto1 = {1, 2, 3}\n",
        "conjunto2 = {3, 4, 5}\n",
        "diferencia = conjunto1.difference(conjunto2)\n",
        "print(diferencia)  # Output: {1, 2}\n"
      ],
      "metadata": {
        "colab": {
          "base_uri": "https://localhost:8080/"
        },
        "id": "8SzzRrLa8hFH",
        "outputId": "776c21db-dffd-4025-f383-c38dd7ac4128"
      },
      "execution_count": null,
      "outputs": [
        {
          "output_type": "stream",
          "name": "stdout",
          "text": [
            "{1, 2}\n"
          ]
        }
      ]
    },
    {
      "cell_type": "code",
      "source": [
        "# Precios de energía por región en CLP/kWh\n",
        "precios_energia = [95, 120, 85, 110]  # Región Metropolitana, Valparaíso, Biobío, Araucanía\n",
        "\n",
        "# Actualización mensual de precios\n",
        "precios_energia[0] = 98  # Región Metropolitana ajusta el precio\n",
        "precios_energia.append(102)  # Se añade una nueva región\n",
        "\n",
        "# Mostrar los precios actualizados\n",
        "print(precios_energia)\n"
      ],
      "metadata": {
        "colab": {
          "base_uri": "https://localhost:8080/"
        },
        "id": "-Jf1QmXJ9DL3",
        "outputId": "872bc440-e95e-4b02-a935-2754fc45ad9a"
      },
      "execution_count": null,
      "outputs": [
        {
          "output_type": "stream",
          "name": "stdout",
          "text": [
            "[98, 120, 85, 110, 102]\n"
          ]
        }
      ]
    },
    {
      "cell_type": "code",
      "source": [
        "# Tarifas fijas por tipo de energía en CLP/kWh\n",
        "tarifas_energia = (\"solar\", 150, \"eólica\", 130, \"hidráulica\", 100)\n",
        "\n",
        "# Acceder a las tarifas\n",
        "print(f\"Tarifa solar: {tarifas_energia[1]} CLP/kWh\")\n",
        "print(f\"Tarifa eólica: {tarifas_energia[3]} CLP/kWh\")\n"
      ],
      "metadata": {
        "colab": {
          "base_uri": "https://localhost:8080/"
        },
        "id": "U6ZEePZ39Wct",
        "outputId": "68026825-39d6-4b9f-9eea-9e88eeb30786"
      },
      "execution_count": null,
      "outputs": [
        {
          "output_type": "stream",
          "name": "stdout",
          "text": [
            "Tarifa solar: 150 CLP/kWh\n",
            "Tarifa eólica: 130 CLP/kWh\n"
          ]
        }
      ]
    },
    {
      "cell_type": "code",
      "source": [
        "# Información de plantas generadoras de energía\n",
        "plantas_energia = {\n",
        "    \"Planta Solar Norte\": {\"capacidad_mw\": 150, \"tipo\": \"solar\"},\n",
        "    \"Planta Eólica Sur\": {\"capacidad_mw\": 200, \"tipo\": \"eólica\"},\n",
        "    \"Central Hidráulica Andes\": {\"capacidad_mw\": 300, \"tipo\": \"hidráulica\"}\n",
        "}\n",
        "\n",
        "# Acceder a la información de una planta\n",
        "print(f\"Planta Solar Norte: {plantas_energia['Planta Solar Norte']}\")\n"
      ],
      "metadata": {
        "colab": {
          "base_uri": "https://localhost:8080/"
        },
        "id": "QArXQRbU9mul",
        "outputId": "45ecfa75-a2b5-4a40-841f-22fbad489feb"
      },
      "execution_count": null,
      "outputs": [
        {
          "output_type": "stream",
          "name": "stdout",
          "text": [
            "Planta Solar Norte: {'capacidad_mw': 150, 'tipo': 'solar'}\n"
          ]
        }
      ]
    },
    {
      "cell_type": "code",
      "source": [
        "# Regiones en las que operan diferentes empresas de energía\n",
        "empresas_energia = {\n",
        "    \"Empresa Solar Chile\": {\"Región Metropolitana\", \"Valparaíso\", \"Biobío\"},\n",
        "    \"Empresa Eólica Andes\": {\"Valparaíso\", \"Atacama\", \"Coquimbo\"},\n",
        "    \"Empresa Hidráulica Sur\": {\"Araucanía\", \"Los Lagos\", \"Aysén\"}\n",
        "}\n",
        "\n",
        "# Mostrar las regiones de operación de una empresa\n",
        "print(f\"Regiones operadas por Empresa Solar Chile: {empresas_energia['Empresa Solar Chile']}\")\n"
      ],
      "metadata": {
        "colab": {
          "base_uri": "https://localhost:8080/"
        },
        "id": "uANNDekM_oks",
        "outputId": "2a550885-a802-4f04-b611-0ca64038b9e5"
      },
      "execution_count": 30,
      "outputs": [
        {
          "output_type": "stream",
          "name": "stdout",
          "text": [
            "Regiones operadas por Empresa Solar Chile: {'Región Metropolitana', 'Biobío', 'Valparaíso'}\n"
          ]
        }
      ]
    },
    {
      "cell_type": "code",
      "source": [
        "regiones_solar = empresas_energia[\"Empresa Solar Chile\"]\n",
        "regiones_eolica = empresas_energia[\"Empresa Eólica Andes\"]\n",
        "\n",
        "interseccion = regiones_solar.intersection(regiones_eolica)\n",
        "print(f\"Regiones comunes entre Empresa Solar Chile y Empresa Eólica Andes: {interseccion}\")\n"
      ],
      "metadata": {
        "colab": {
          "base_uri": "https://localhost:8080/"
        },
        "id": "Xe3ieOHNB8d8",
        "outputId": "76943de9-76d7-442d-bc77-2524e52f149e"
      },
      "execution_count": 31,
      "outputs": [
        {
          "output_type": "stream",
          "name": "stdout",
          "text": [
            "Regiones comunes entre Empresa Solar Chile y Empresa Eólica Andes: {'Valparaíso'}\n"
          ]
        }
      ]
    },
    {
      "cell_type": "code",
      "source": [
        "# Generación de energía por mes en MW/h para diferentes plantas\n",
        "generacion_energia = {\n",
        "    \"Planta Solar Norte\": [1500, 1600, 1550, 1620, 1500, 1580, 1600, 1620, 1550, 1600, 1580, 1620],  # 12 meses\n",
        "    \"Planta Eólica Sur\": [1300, 1350, 1320, 1400, 1380, 1350, 1400, 1420, 1360, 1400, 1380, 1420],\n",
        "    \"Central Hidráulica Andes\": [2000, 2050, 2100, 2120, 2050, 2080, 2100, 2120, 2080, 2100, 2080, 2120]\n",
        "}\n",
        "\n",
        "# Calcular la generación total anual por planta\n",
        "for planta, datos in generacion_energia.items():\n",
        "    total_anual = sum(datos)\n",
        "    print(f\"Generación anual de {planta}: {total_anual} MW/h\")\n"
      ],
      "metadata": {
        "colab": {
          "base_uri": "https://localhost:8080/"
        },
        "id": "WyNwXGWgCWJj",
        "outputId": "3d982424-cd7a-450f-b993-3ba98147286a"
      },
      "execution_count": 32,
      "outputs": [
        {
          "output_type": "stream",
          "name": "stdout",
          "text": [
            "Generación anual de Planta Solar Norte: 18920 MW/h\n",
            "Generación anual de Planta Eólica Sur: 16480 MW/h\n",
            "Generación anual de Central Hidráulica Andes: 25000 MW/h\n"
          ]
        }
      ]
    },
    {
      "cell_type": "code",
      "source": [
        "# Crear un diccionario para almacenar información de estudiantes\n",
        "estudiantes = {}\n",
        "\n",
        "# Función para agregar un estudiante\n",
        "def agregar_estudiante(nombre, edad, calificacion):\n",
        "    estudiantes[nombre] = {'edad': edad, 'calificacion': calificacion}\n",
        "\n",
        "# Función para eliminar un estudiante\n",
        "def eliminar_estudiante(nombre):\n",
        "    if nombre in estudiantes:\n",
        "        del estudiantes[nombre]\n",
        "    else:\n",
        "        print(f\"El estudiante {nombre} no existe.\")\n",
        "\n",
        "# Función para consultar un estudiante\n",
        "def consultar_estudiante(nombre):\n",
        "    if nombre in estudiantes:\n",
        "        print(f\"Nombre: {nombre}, Edad: {estudiantes[nombre]['edad']}, Calificación: {estudiantes[nombre]['calificacion']}\")\n",
        "    else:\n",
        "        print(f\"El estudiante {nombre} no existe.\")\n",
        "\n",
        "# Ejemplos de uso\n",
        "agregar_estudiante(\"Juan\", 20, 85)\n",
        "agregar_estudiante(\"Ana\", 22, 90)\n",
        "consultar_estudiante(\"Juan\")\n",
        "#eliminar_estudiante(\"Ana\")\n",
        "consultar_estudiante(\"Ana\")"
      ],
      "metadata": {
        "colab": {
          "base_uri": "https://localhost:8080/"
        },
        "id": "BWjxlG8vD4vm",
        "outputId": "7b2f5590-ab8f-4fc0-b6e7-a4dabf648251"
      },
      "execution_count": 33,
      "outputs": [
        {
          "output_type": "stream",
          "name": "stdout",
          "text": [
            "Nombre: Juan, Edad: 20, Calificación: 85\n",
            "Nombre: Ana, Edad: 22, Calificación: 90\n"
          ]
        }
      ]
    },
    {
      "cell_type": "code",
      "source": [
        "# Crear una lista de números\n",
        "numeros = [5, 3, 8, 1, 9, 2]\n",
        "\n",
        "# Ordenar la lista de forma ascendente\n",
        "numeros_ascendente = sorted(numeros)\n",
        "print(f\"Lista ordenada de forma ascendente: {numeros_ascendente}\")\n",
        "\n",
        "# Ordenar la lista de forma descendente\n",
        "numeros_descendente = sorted(numeros, reverse=True)\n",
        "print(f\"Lista ordenada de forma descendente: {numeros_descendente}\")"
      ],
      "metadata": {
        "colab": {
          "base_uri": "https://localhost:8080/"
        },
        "id": "8A7LaxaOERBg",
        "outputId": "4c2604ba-5635-42d7-f062-20919ccb2b98"
      },
      "execution_count": 34,
      "outputs": [
        {
          "output_type": "stream",
          "name": "stdout",
          "text": [
            "Lista ordenada de forma ascendente: [1, 2, 3, 5, 8, 9]\n",
            "Lista ordenada de forma descendente: [9, 8, 5, 3, 2, 1]\n"
          ]
        }
      ]
    },
    {
      "cell_type": "code",
      "source": [
        "# Crear dos conjuntos de números\n",
        "conjunto1 = {1, 2, 3, 4, 5}\n",
        "conjunto2 = {4, 5, 6, 7, 8}\n",
        "\n",
        "# Unión de los conjuntos\n",
        "union = conjunto1 | conjunto2\n",
        "print(f\"Unión de los conjuntos: {union}\")\n",
        "\n",
        "# Intersección de los conjuntos\n",
        "interseccion = conjunto1 & conjunto2\n",
        "print(f\"Intersección de los conjuntos: {interseccion}\")\n",
        "\n",
        "# Diferencia de los conjuntos\n",
        "diferencia = conjunto1 - conjunto2\n",
        "print(f\"Diferencia de los conjuntos: {diferencia}\")"
      ],
      "metadata": {
        "colab": {
          "base_uri": "https://localhost:8080/"
        },
        "id": "PNe_7JxhE3td",
        "outputId": "24c051de-fe97-4bc6-b7fd-689fc46cab2f"
      },
      "execution_count": 35,
      "outputs": [
        {
          "output_type": "stream",
          "name": "stdout",
          "text": [
            "Unión de los conjuntos: {1, 2, 3, 4, 5, 6, 7, 8}\n",
            "Intersección de los conjuntos: {4, 5}\n",
            "Diferencia de los conjuntos: {1, 2, 3}\n"
          ]
        }
      ]
    }
  ]
}